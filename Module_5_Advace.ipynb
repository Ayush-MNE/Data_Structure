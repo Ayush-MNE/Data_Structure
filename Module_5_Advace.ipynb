{
 "cells": [
  {
   "cell_type": "markdown",
   "metadata": {},
   "source": [
    "1. Write a code to reverse a string"
   ]
  },
  {
   "cell_type": "code",
   "execution_count": 1,
   "metadata": {},
   "outputs": [],
   "source": [
    "def rev_str (digit):\n",
    "    x=digit[::-1]\n",
    "    return x"
   ]
  },
  {
   "cell_type": "markdown",
   "metadata": {},
   "source": [
    "2. write a code to count vowel in string"
   ]
  },
  {
   "cell_type": "code",
   "execution_count": 7,
   "metadata": {},
   "outputs": [],
   "source": [
    "def vow_count (words):\n",
    "    x=0\n",
    "    words= words.lower()\n",
    "    for j in words:\n",
    "        if j=='a' or j=='e' or j=='i' or j=='o' or j=='u':\n",
    "            x+=1\n",
    "        else:\n",
    "            x+=0\n",
    "    return x \n",
    "\n",
    "              \n"
   ]
  },
  {
   "cell_type": "markdown",
   "metadata": {},
   "source": [
    "3. Write a code to check if given string is palindrome or not "
   ]
  },
  {
   "cell_type": "code",
   "execution_count": 12,
   "metadata": {},
   "outputs": [],
   "source": [
    "def palindrome_str(word):\n",
    "    rev_word=word[::-1]\n",
    "    \n",
    "\n",
    "    if word.lower()==rev_word.lower():\n",
    "        print(f\"given string '{word}' is a palindrome string\")\n",
    "    else:\n",
    "        print(\"it isn't a palindrome string\")\n",
    "\n"
   ]
  },
  {
   "cell_type": "markdown",
   "metadata": {},
   "source": [
    "4. write a code to chech if two given strings are anagrams of each other"
   ]
  },
  {
   "cell_type": "code",
   "execution_count": 13,
   "metadata": {},
   "outputs": [],
   "source": [
    "def anagram_str (a,b):\n",
    "    if sorted(a.lower()) == sorted(b.lower()):\n",
    "        print(f'{a} and {b} are anagram strings')\n",
    "    else:\n",
    "        print(f\"{a} and {b} aren't anagram strings\")"
   ]
  },
  {
   "cell_type": "markdown",
   "metadata": {},
   "source": [
    "5. write a code to find all occurance of a given substrings within another strings"
   ]
  },
  {
   "cell_type": "code",
   "execution_count": 19,
   "metadata": {},
   "outputs": [],
   "source": [
    "def count (strings, substrings):\n",
    "\n",
    "    x= strings.count(substrings)\n",
    "\n",
    "    return x"
   ]
  },
  {
   "cell_type": "markdown",
   "metadata": {},
   "source": [
    "6. write a code to perform basic string compression using the count of repeated character"
   ]
  },
  {
   "cell_type": "code",
   "execution_count": 87,
   "metadata": {},
   "outputs": [],
   "source": [
    "def Str_Compression (strings):\n",
    "    word=sorted(strings)\n",
    "    z=len(word)\n",
    "    i=0\n",
    "    y=''\n",
    "    while i <=(z-1):\n",
    "        x=word.count(word[i])\n",
    "        if x==1:\n",
    "            y=y+word[i]\n",
    "        else:\n",
    "            y=y+word[i]+str(x)\n",
    "        \n",
    "        i+=x\n",
    "    return y\n",
    "        "
   ]
  },
  {
   "cell_type": "markdown",
   "metadata": {},
   "source": [
    "7. write a code to determine if a string has all unique characters."
   ]
  },
  {
   "cell_type": "code",
   "execution_count": 64,
   "metadata": {},
   "outputs": [],
   "source": [
    "def unique_Chr( words):\n",
    "    word= words.lower()\n",
    "    x=[]\n",
    "    for i in word:\n",
    "        x.append(i)\n",
    "    y=set(x)\n",
    "    if len(x)==len(y):\n",
    "        print(f\"{words} has all unique character. \")\n",
    "    else:\n",
    "        print(f\"{words} has repeated characters.\")"
   ]
  },
  {
   "cell_type": "markdown",
   "metadata": {},
   "source": [
    "8. write a code to convert a given string to upper case and lower case."
   ]
  },
  {
   "cell_type": "code",
   "execution_count": 66,
   "metadata": {},
   "outputs": [],
   "source": [
    "def converter():\n",
    "    x=input('pleae enter your word')\n",
    "    y=x.lower()\n",
    "    z=x.upper()\n",
    "    return y, z"
   ]
  },
  {
   "cell_type": "markdown",
   "metadata": {},
   "source": [
    "9. write a code to count words in a string."
   ]
  },
  {
   "cell_type": "code",
   "execution_count": 37,
   "metadata": {},
   "outputs": [],
   "source": [
    "def word_count (strings):\n",
    "    word=sorted(strings)\n",
    "    print(word)\n",
    "    z=len(word)\n",
    "    i= 0\n",
    "    y={}\n",
    "    while i <=(z-1):\n",
    "        x=word.count(word[i])\n",
    "        y[word[i]]=x\n",
    "        i+=x\n",
    "\n",
    "    return y\n",
    "        "
   ]
  },
  {
   "cell_type": "markdown",
   "metadata": {},
   "source": [
    "10. write a code to concatenate two strings without using the + operator."
   ]
  },
  {
   "cell_type": "code",
   "execution_count": 38,
   "metadata": {},
   "outputs": [],
   "source": [
    "def concatenate(a,b):\n",
    "    x=[a,b]\n",
    "    for i in x:\n",
    "        z=str(print(i, end=\"\"))\n",
    "    return z\n",
    "\n",
    "    \n",
    "    "
   ]
  },
  {
   "cell_type": "markdown",
   "metadata": {},
   "source": [
    "11. Write a code to remove all occurance of a specific element from a list."
   ]
  },
  {
   "cell_type": "code",
   "execution_count": 39,
   "metadata": {},
   "outputs": [],
   "source": [
    "def specific_elemnent_rem(x,a):\n",
    "    for i in a:\n",
    "        if x in i:\n",
    "            a.remove(i)\n",
    "    return a"
   ]
  },
  {
   "cell_type": "markdown",
   "metadata": {},
   "source": [
    "12. implement a code to find second largest number in a given list of integers."
   ]
  },
  {
   "cell_type": "code",
   "execution_count": 40,
   "metadata": {},
   "outputs": [
    {
     "name": "stdout",
     "output_type": "stream",
     "text": [
      "69 is the second heighest number in given list\n"
     ]
    }
   ],
   "source": [
    "lis=[1,4,35,45,55,69,71,5,10,2]\n",
    "new_lis=[]\n",
    "\n",
    "while len(lis) >0:\n",
    "    great= lis[0]\n",
    "    for i in range(1,len(lis)):\n",
    "        if lis[i]>=great:\n",
    "            great=lis[i]\n",
    "        else:\n",
    "            great=great\n",
    "    \n",
    "    new_lis.append(great)\n",
    "    lis.remove(great)\n",
    "    \n",
    "print(f'{new_lis[1]} is the second heighest number in given list')"
   ]
  },
  {
   "cell_type": "markdown",
   "metadata": {},
   "source": [
    "13. create a code to count occurance of each element in a list and return dictionary with element as key and count as function."
   ]
  },
  {
   "cell_type": "code",
   "execution_count": 47,
   "metadata": {},
   "outputs": [
    {
     "name": "stdout",
     "output_type": "stream",
     "text": [
      "['1', '1', '2', '5', '7', 'ayush', 'ayush', 'kashyap', 'kashyap']\n"
     ]
    },
    {
     "data": {
      "text/plain": [
       "{'1': 2, '2': 1, '5': 1, '7': 1, 'ayush': 2, 'kashyap': 2}"
      ]
     },
     "execution_count": 47,
     "metadata": {},
     "output_type": "execute_result"
    }
   ],
   "source": [
    "lis=['ayush', 'kashyap',1,2,5,7,1,'ayush','kashyap']\n",
    "new_lis=[]\n",
    "for i in lis:\n",
    "    i=str(i)\n",
    "    new_lis.append(i)\n",
    "\n",
    "word_count(new_lis)\n"
   ]
  },
  {
   "cell_type": "markdown",
   "metadata": {},
   "source": [
    "14. write a code to reverse a list in place without using any built-in reverse functions. "
   ]
  },
  {
   "cell_type": "code",
   "execution_count": 50,
   "metadata": {},
   "outputs": [],
   "source": [
    "def reverse (list):\n",
    "    rev_list=[]\n",
    "    while len(list) >0:\n",
    "        rev_list.append(list[len(list)-1])\n",
    "        list.pop()\n",
    "    return rev_list"
   ]
  },
  {
   "cell_type": "markdown",
   "metadata": {},
   "source": [
    "15. Implement a code to find and remove duplicates from a list without preserving the original order of element."
   ]
  },
  {
   "cell_type": "code",
   "execution_count": 69,
   "metadata": {},
   "outputs": [
    {
     "name": "stdout",
     "output_type": "stream",
     "text": [
      "['ayush', 1, 2, 3, 5]\n"
     ]
    }
   ],
   "source": [
    "x=['ayush',1,1,2,3,5,1,5,3,2,'ayush']\n",
    "y=[]\n",
    "z=set()\n",
    "for i in x:\n",
    "    if i not in z:\n",
    "        y.append(i)\n",
    "        z.add(i)\n",
    "    \n",
    "print(y)"
   ]
  },
  {
   "cell_type": "markdown",
   "metadata": {},
   "source": [
    "16. Create a code to check if givenlist is sorted (either in ascending or decending) or not."
   ]
  },
  {
   "cell_type": "code",
   "execution_count": 8,
   "metadata": {},
   "outputs": [],
   "source": [
    "def sorted_check(x):\n",
    "    y=sorted(x)\n",
    "    z=sorted(x, reverse=True)\n",
    "    if x==y or x==z:\n",
    "        print(f\"{x} is a sorted list.\")\n",
    "    else:\n",
    "        print(f\"{x} is not a sorted list\")"
   ]
  },
  {
   "cell_type": "markdown",
   "metadata": {},
   "source": [
    "17. Write a code to merge two sorted list into a single sorted list."
   ]
  },
  {
   "cell_type": "code",
   "execution_count": 17,
   "metadata": {},
   "outputs": [],
   "source": [
    "def merge_list(a,b):\n",
    "    z= sorted(a)+sorted(b)\n",
    "    return sorted(z)"
   ]
  },
  {
   "cell_type": "markdown",
   "metadata": {},
   "source": [
    "18. implement a code to find intersection of two given list."
   ]
  },
  {
   "cell_type": "code",
   "execution_count": 20,
   "metadata": {},
   "outputs": [
    {
     "name": "stdout",
     "output_type": "stream",
     "text": [
      "[3, 65, 'ayush']\n"
     ]
    }
   ],
   "source": [
    "#given lists\n",
    "x=[1,2,3,4,5,6,89.45,65,'ayush']\n",
    "y=[23,65,3,9,'ayush']\n",
    "#code\n",
    "z=[]\n",
    "for i in x:\n",
    "    if i in y:\n",
    "        z.append(i)\n",
    "\n",
    "print(z)"
   ]
  },
  {
   "cell_type": "markdown",
   "metadata": {},
   "source": [
    "19. Create a code to find the union of two lists without duplicate."
   ]
  },
  {
   "cell_type": "code",
   "execution_count": 23,
   "metadata": {},
   "outputs": [],
   "source": [
    "def union_list(x,y):\n",
    "    z=x+y\n",
    "    new_list=[]\n",
    "    f=set()\n",
    "    for i in z:\n",
    "        if i not in f:\n",
    "            new_list.append(i)\n",
    "        f.add(i)\n",
    "    return new_list"
   ]
  },
  {
   "cell_type": "markdown",
   "metadata": {},
   "source": [
    "20. write a code to suffle a given list randomly without using any built in suffle function. "
   ]
  },
  {
   "cell_type": "code",
   "execution_count": 36,
   "metadata": {},
   "outputs": [
    {
     "name": "stdout",
     "output_type": "stream",
     "text": [
      "[9, 6, 2, 20, 1, 5, 8, 7, 4, 3]\n"
     ]
    }
   ],
   "source": [
    "def middle_square(seed, num_digits):\n",
    "    square = str(seed ** 2).zfill(2 * num_digits)\n",
    "    mid_start = len(square) // 2 - num_digits // 2\n",
    "    return int(square[mid_start:mid_start + num_digits])\n",
    "\n",
    "def shuffle_list(input_list, seed):\n",
    "    n = len(input_list)\n",
    "    shuffled_list = input_list[:]\n",
    "    for i in range(n-1, 0, -1):\n",
    "        # Generate a random index based on the current seed\n",
    "        seed = middle_square(seed, len(str(n)))\n",
    "        j = seed % (i + 1)\n",
    "        # Swap elements\n",
    "        shuffled_list[i], shuffled_list[j] = shuffled_list[j], shuffled_list[i]\n",
    "    return shuffled_list\n",
    "\n",
    "# Example usage\n",
    "original_list = [1, 2, 3, 4, 5, 6, 7, 8, 9, 20]\n",
    "seed = 1234\n",
    "\n",
    "shuffled_list = shuffle_list(original_list, seed)\n",
    "print(shuffled_list)\n"
   ]
  },
  {
   "cell_type": "markdown",
   "metadata": {},
   "source": [
    "21. write a code to take two tuples as a input and return a new tuple containing elements that are common in both tupple inputs. "
   ]
  },
  {
   "cell_type": "code",
   "execution_count": 24,
   "metadata": {},
   "outputs": [],
   "source": [
    "def tuple_intersection(a,b):\n",
    "    f=[]\n",
    "    for i in a:\n",
    "        if i in b:\n",
    "            f.append(i)\n",
    "    \n",
    "\n",
    "        \n",
    "        \n",
    "    x=tuple(f)\n",
    "    return x"
   ]
  },
  {
   "cell_type": "markdown",
   "metadata": {},
   "source": [
    "22. create a code that prompts a user to enter two set of integers seperated by commas, then print the intersection of these two sets. "
   ]
  },
  {
   "cell_type": "code",
   "execution_count": 35,
   "metadata": {},
   "outputs": [],
   "source": [
    "def inp():\n",
    "    x=input('please enter your set')\n",
    "    x=x.strip('{')\n",
    "    x=x.strip('}')\n",
    "    x=x.split(\",\")\n",
    "    y=set()\n",
    "    for i in x[::1]:\n",
    "        y.add (int(i))\n",
    "        \n",
    "    \n",
    "    return y\n",
    "\n",
    "def inter_sets ():\n",
    "    b= inp()\n",
    "    a= inp()\n",
    "    print(a,b)\n",
    "    c=set()\n",
    "    for i in a:\n",
    "        if i in b:\n",
    "            c.add(i)\n",
    "    return c"
   ]
  },
  {
   "cell_type": "markdown",
   "metadata": {},
   "source": [
    "23. write a code to concatenate two tuples. these function should take two tuples as input and return a new tuple containing element from both input tuples."
   ]
  },
  {
   "cell_type": "code",
   "execution_count": 39,
   "metadata": {},
   "outputs": [],
   "source": [
    "def inp():\n",
    "    x=input('please enter your set')\n",
    "    x=x.strip('(')\n",
    "    x=x.strip(')')\n",
    "    x=x.split(\",\")\n",
    "    y=[]\n",
    "    for i in x[::1]:\n",
    "        y.append (int(i))\n",
    "        \n",
    "    \n",
    "    return y\n",
    "\n",
    "def inter_sets ():\n",
    "    b= inp()\n",
    "    a= inp()\n",
    "    print(a,b)\n",
    "    c= a +b\n",
    "    \n",
    "    c=tuple(c)\n",
    "    return c"
   ]
  },
  {
   "cell_type": "markdown",
   "metadata": {},
   "source": [
    "24. Develop a code that prompts the user to input two set of strings then print the element that are present in first set but not in the second set."
   ]
  },
  {
   "cell_type": "code",
   "execution_count": 48,
   "metadata": {},
   "outputs": [],
   "source": [
    "def inp(an):\n",
    "    x=input(f\"please enter your {an} set of strings and dont use '' to indicate string just write the character.\")\n",
    "    x=x.strip('{')\n",
    "    x=x.strip('}')\n",
    "    x=x.split(\",\")\n",
    "    y=[]\n",
    "    for i in x[::1]:\n",
    "        y.append (i)\n",
    "        \n",
    "    \n",
    "    return y\n",
    "\n",
    "def inter_sets ():\n",
    "    a= inp('first')\n",
    "    b= inp('second')\n",
    "    print(a,b)\n",
    "    c=set()\n",
    "    for i in a:\n",
    "        if i not in b:\n",
    "            c.add(i)\n",
    "    \n",
    "    return c"
   ]
  },
  {
   "cell_type": "markdown",
   "metadata": {},
   "source": [
    "25. creat a code that takes tuple and two integer as input. The function should return a new tuple containing elements from the original tuple within the specified range of indices. "
   ]
  },
  {
   "cell_type": "code",
   "execution_count": 65,
   "metadata": {},
   "outputs": [],
   "source": [
    "def inp(an):\n",
    "    x=input(f\"please enter your {an} tuple and dont use '' to indicate string just write the character.\")\n",
    "    x=x.strip('(')\n",
    "    x=x.strip(')')\n",
    "    x=x.split(\",\")\n",
    "    y=[]\n",
    "    for i in x[::1]:\n",
    "        if i.isdigit():\n",
    "            y.append(int(i))\n",
    "        elif i.isalpha() or i.isalnum():\n",
    "            y.append(i)\n",
    "        else:\n",
    "            y.append (float(i))\n",
    "        \n",
    "        \n",
    "    \n",
    "    return y\n",
    "\n",
    "def inter_sets (start, end):\n",
    "    a= inp('first')\n",
    "    print(a)\n",
    "    c=[]\n",
    "    for i in a[start:end+1]:\n",
    "        c.append(i)\n",
    "    \n",
    "    return tuple(c)"
   ]
  },
  {
   "cell_type": "markdown",
   "metadata": {},
   "source": [
    "26. write a code to prompt a user to input two sets of character then print the union of these two sets."
   ]
  },
  {
   "cell_type": "code",
   "execution_count": 77,
   "metadata": {},
   "outputs": [],
   "source": [
    "def inp(an):\n",
    "    x=input(f\"please enter your {an} set of character and dont use '' to indicate string just write the character.\")\n",
    "    x=x.strip('{')\n",
    "    x=x.strip('}')\n",
    "    x=x.replace(' ','')\n",
    "    x=x.split(\",\")\n",
    "    y=[]\n",
    "    for i in x[::1]:\n",
    "        if i.isdigit():\n",
    "            y.append(int(i))\n",
    "        elif i.isalpha() or i.isalnum():\n",
    "            y.append(i)\n",
    "        else:\n",
    "            y.append (float(i))\n",
    "        \n",
    "        \n",
    "    \n",
    "    return y\n",
    "\n",
    "def inter_sets ():\n",
    "    a= inp('first')\n",
    "    print(a)\n",
    "    b=inp('second')\n",
    "    c= a+b\n",
    "    \n",
    "    \n",
    "    return set(c)"
   ]
  },
  {
   "cell_type": "markdown",
   "metadata": {},
   "source": [
    "27. Develop a code that takes tuple of integers as input. The function shoud return maximum and minimum value from the tuple using tuple unpacking.  "
   ]
  },
  {
   "cell_type": "code",
   "execution_count": 83,
   "metadata": {},
   "outputs": [],
   "source": [
    "def inp():\n",
    "    x=input(\"please enter your tuple of integers\")\n",
    "    x=x.strip('(')\n",
    "    x=x.strip(')')\n",
    "    x=x.replace(' ','')\n",
    "    x=x.split(\",\")\n",
    "    y=[]\n",
    "    for i in x[::1]:\n",
    "        if i.isdigit():\n",
    "            y.append(int(i))\n",
    "        elif i.isalpha() or i.isalnum():\n",
    "            y.append(i)\n",
    "        else:\n",
    "            y.append (float(i))\n",
    "\n",
    "    y=sorted(y)\n",
    "    print(y)\n",
    "        \n",
    "    \n",
    "    return (f\"min value is {y[0]}, and maximum value is {y[len(y)-1]}.\")\n",
    "\n",
    "\n",
    "    \n",
    "    "
   ]
  },
  {
   "cell_type": "markdown",
   "metadata": {},
   "source": [
    "28. Create a code that define two set of integers. then print the union intersection and differences of these two sets. "
   ]
  },
  {
   "cell_type": "code",
   "execution_count": 85,
   "metadata": {},
   "outputs": [],
   "source": [
    "\n",
    "def set_operations (a,b):\n",
    "    a=list(a)\n",
    "    b=list(b)\n",
    "    union=set(a+b)\n",
    "\n",
    "    intersection =set()\n",
    "    for i in a:\n",
    "        if i in b:\n",
    "            intersection.add(i)\n",
    "    difference =set(a) - set(b)\n",
    "\n",
    "    return union, intersection, difference\n"
   ]
  },
  {
   "cell_type": "markdown",
   "metadata": {},
   "source": [
    "29. write a code that takes a tuple and a element as input. the function should return the count of occurance of given element in tuple."
   ]
  },
  {
   "cell_type": "code",
   "execution_count": 89,
   "metadata": {},
   "outputs": [],
   "source": [
    "def tuple_count(a,b):\n",
    "    a=list(a)\n",
    "    num =a.count(b)\n",
    "    return(f\"{b} has occured {num} times in a given tuple.\")\n"
   ]
  },
  {
   "cell_type": "markdown",
   "metadata": {},
   "source": [
    "30. Develop a code that prompt the user to input two sets of strings. then print the symmetric differences of these two sets. "
   ]
  },
  {
   "cell_type": "code",
   "execution_count": 92,
   "metadata": {},
   "outputs": [],
   "source": [
    "def inp(num):\n",
    "    x=input(f\"please enter your {num} set of strings\")\n",
    "    x=x.strip('{')\n",
    "    x=x.strip('}')\n",
    "    x=x.replace(' ','')\n",
    "    x=x.split(\",\")\n",
    "    y=[]\n",
    "    for i in x[::1]:\n",
    "        if i.isdigit():\n",
    "            y.append(int(i))\n",
    "        elif i.isalpha() or i.isalnum():\n",
    "            y.append(i)\n",
    "        else:\n",
    "            y.append (float(i))\n",
    "    return set(y)\n",
    "def sym_def():\n",
    "    a= inp('first')\n",
    "    b= inp ('second')\n",
    "    \n",
    "\n",
    "    symmetric_dif = a.symmetric_difference(b)\n",
    "\n",
    "    return symmetric_dif\n",
    "    "
   ]
  },
  {
   "cell_type": "markdown",
   "metadata": {},
   "source": [
    "31. write a code that takes a list of words as input and returns a dictionary where the keys are unique words and the values are frequency of those words in the input list."
   ]
  },
  {
   "cell_type": "code",
   "execution_count": 94,
   "metadata": {},
   "outputs": [],
   "source": [
    "def frequency_count(a):\n",
    "    dic={}\n",
    "    sets=set(a)\n",
    "\n",
    "    for i in sets:\n",
    "        num=a.count(i)\n",
    "        dic[i]=num\n",
    "    return dic"
   ]
  },
  {
   "cell_type": "markdown",
   "metadata": {},
   "source": [
    "32. write a code that take two dictionary as input and merge them into a single dictionary. if there are common keys, the value should be added together. "
   ]
  },
  {
   "cell_type": "code",
   "execution_count": 104,
   "metadata": {},
   "outputs": [
    {
     "name": "stdout",
     "output_type": "stream",
     "text": [
      "{'raghv': 5, 'utkarsh': 10, 'ayu': 30, 'kash': 9}\n"
     ]
    }
   ],
   "source": [
    "a={'ayu':5,'kash':9}\n",
    "b={'raghv':5,'utkarsh':10,'ayu':25}\n",
    "\n",
    "for i in a.keys():\n",
    "    if i not in b.keys():\n",
    "        b[i]= a[i]\n",
    "    else:\n",
    "        b[i]=a[i]+b[i]\n",
    "print(b)"
   ]
  },
  {
   "cell_type": "markdown",
   "metadata": {},
   "source": [
    "33. write a code to access a value in nested dictionary. The function should take function and list of keys as input. if any of the keys do not exist in dictionary return none as value. "
   ]
  },
  {
   "cell_type": "code",
   "execution_count": 111,
   "metadata": {},
   "outputs": [
    {
     "name": "stdout",
     "output_type": "stream",
     "text": [
      "New York\n",
      "None\n"
     ]
    }
   ],
   "source": [
    "def get_nested_value(dictionary, keys):\n",
    "    current_level = dictionary\n",
    "    try:\n",
    "        for key in keys:\n",
    "            current_level = current_level[key]\n",
    "        return current_level\n",
    "    except KeyError:\n",
    "        return None\n",
    "\n",
    "# Example usage\n",
    "nested_dict = {\n",
    "    'person1': {\n",
    "        'name': 'Alice',\n",
    "        'age': 25,\n",
    "        'address': {\n",
    "            'city': 'New York',\n",
    "            'zip': '10001'\n",
    "        }\n",
    "    },\n",
    "    'person2': {\n",
    "        'name': 'Bob',\n",
    "        'age': 30,\n",
    "        'address': {\n",
    "            'city': 'Los Angeles',\n",
    "            'zip': '90001'\n",
    "        }\n",
    "    }\n",
    "}\n",
    "\n",
    "keys1 = ['person1', 'address', 'city']\n",
    "keys2 = ['person2', 'address', 'country']\n",
    "\n",
    "print(get_nested_value(nested_dict, keys1))  # Outputs: New York\n",
    "print(get_nested_value(nested_dict, keys2))  # Outputs: None\n"
   ]
  },
  {
   "cell_type": "markdown",
   "metadata": {},
   "source": [
    "34. write a code that take dictionary as input and return a sorted version of it based on the values. you can choose wether to sort in ascending or descending order. "
   ]
  },
  {
   "cell_type": "code",
   "execution_count": null,
   "metadata": {},
   "outputs": [],
   "source": [
    "def sort_dict_by_value(d, ascending=True):\n",
    "    sorted_dict = dict(sorted(d.items(), key=lambda item: item[1], reverse=not ascending))\n",
    "    return sorted_dict\n",
    "\n",
    "# Example usage\n",
    "my_dict = {\n",
    "    'a': 3,\n",
    "    'b': 1,\n",
    "    'c': 2,\n",
    "    'd': 4\n",
    "}\n",
    "\n",
    "# Sort in ascending order\n",
    "sorted_dict_asc = sort_dict_by_value(my_dict, ascending=True)\n",
    "print(\"Ascending:\", sorted_dict_asc)  # Outputs: {'b': 1, 'c': 2, 'a': 3, 'd': 4}\n",
    "\n",
    "# Sort in descending order\n",
    "sorted_dict_desc = sort_dict_by_value(my_dict, ascending=False)\n",
    "print(\"Descending:\", sorted_dict_desc)  # Outputs: {'d': 4, 'a': 3, 'c': 2, 'b': 1}\n"
   ]
  },
  {
   "cell_type": "markdown",
   "metadata": {},
   "source": [
    "35. write a code that invert a dictionary, swaping keys and values. ensure that the inverted dictionary correctly handle cases where multiple keys have the same values by storing the key as a list in the inverted dictionary."
   ]
  },
  {
   "cell_type": "code",
   "execution_count": 112,
   "metadata": {},
   "outputs": [
    {
     "name": "stdout",
     "output_type": "stream",
     "text": [
      "{1: ['a', 'c'], 2: ['b'], 3: ['d']}\n"
     ]
    }
   ],
   "source": [
    "def invert_dict(d):\n",
    "    inverted_dict = {}\n",
    "    \n",
    "    for key, value in d.items():\n",
    "        # If the value is already a key in the inverted dictionary\n",
    "        if value in inverted_dict:\n",
    "            # Append the key to the list of keys for that value\n",
    "            inverted_dict[value].append(key)\n",
    "        else:\n",
    "            # Create a new entry with the value as key and the key as a list\n",
    "            inverted_dict[value] = [key]\n",
    "    \n",
    "    return inverted_dict\n",
    "\n",
    "# Example usage\n",
    "my_dict = {\n",
    "    'a': 1,\n",
    "    'b': 2,\n",
    "    'c': 1,\n",
    "    'd': 3\n",
    "}\n",
    "\n",
    "inverted_dict = invert_dict(my_dict)\n",
    "print(inverted_dict)  # Outputs: {1: ['a', 'c'], 2: ['b'], 3: ['d']}\n"
   ]
  },
  {
   "cell_type": "code",
   "execution_count": null,
   "metadata": {},
   "outputs": [],
   "source": []
  }
 ],
 "metadata": {
  "kernelspec": {
   "display_name": "Python 3",
   "language": "python",
   "name": "python3"
  },
  "language_info": {
   "codemirror_mode": {
    "name": "ipython",
    "version": 3
   },
   "file_extension": ".py",
   "mimetype": "text/x-python",
   "name": "python",
   "nbconvert_exporter": "python",
   "pygments_lexer": "ipython3",
   "version": "3.12.4"
  }
 },
 "nbformat": 4,
 "nbformat_minor": 2
}
